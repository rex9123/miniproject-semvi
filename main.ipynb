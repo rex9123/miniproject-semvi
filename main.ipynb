{
 "cells": [
  {
   "cell_type": "code",
   "execution_count": 23,
   "metadata": {},
   "outputs": [],
   "source": [
    "import os\n",
    "import pandas as pd \n",
    "import difflib\n",
    "from sklearn.feature_extraction.text import TfidfVectorizer"
   ]
  },
  {
   "cell_type": "code",
   "execution_count": 2,
   "metadata": {},
   "outputs": [],
   "source": [
    "df1 = pd.read_csv('events.csv')"
   ]
  },
  {
   "cell_type": "code",
   "execution_count": 3,
   "metadata": {},
   "outputs": [
    {
     "name": "stdout",
     "output_type": "stream",
     "text": [
      "<class 'pandas.core.frame.DataFrame'>\n",
      "RangeIndex: 885129 entries, 0 to 885128\n",
      "Data columns (total 9 columns):\n",
      " #   Column         Non-Null Count   Dtype  \n",
      "---  ------         --------------   -----  \n",
      " 0   event_time     885129 non-null  object \n",
      " 1   event_type     885129 non-null  object \n",
      " 2   product_id     885129 non-null  int64  \n",
      " 3   category_id    885129 non-null  float64\n",
      " 4   category_code  648910 non-null  object \n",
      " 5   brand          672765 non-null  object \n",
      " 6   price          885129 non-null  float64\n",
      " 7   user_id        885129 non-null  float64\n",
      " 8   user_session   884964 non-null  object \n",
      "dtypes: float64(3), int64(1), object(5)\n",
      "memory usage: 60.8+ MB\n"
     ]
    }
   ],
   "source": [
    "df1.info()"
   ]
  },
  {
   "cell_type": "code",
   "execution_count": 4,
   "metadata": {},
   "outputs": [
    {
     "data": {
      "text/html": [
       "<div>\n",
       "<style scoped>\n",
       "    .dataframe tbody tr th:only-of-type {\n",
       "        vertical-align: middle;\n",
       "    }\n",
       "\n",
       "    .dataframe tbody tr th {\n",
       "        vertical-align: top;\n",
       "    }\n",
       "\n",
       "    .dataframe thead th {\n",
       "        text-align: right;\n",
       "    }\n",
       "</style>\n",
       "<table border=\"1\" class=\"dataframe\">\n",
       "  <thead>\n",
       "    <tr style=\"text-align: right;\">\n",
       "      <th></th>\n",
       "      <th>event_time</th>\n",
       "      <th>event_type</th>\n",
       "      <th>product_id</th>\n",
       "      <th>category_id</th>\n",
       "      <th>category_code</th>\n",
       "      <th>brand</th>\n",
       "      <th>price</th>\n",
       "      <th>user_id</th>\n",
       "      <th>user_session</th>\n",
       "    </tr>\n",
       "  </thead>\n",
       "  <tbody>\n",
       "    <tr>\n",
       "      <th>0</th>\n",
       "      <td>2020-09-24 11:57:06 UTC</td>\n",
       "      <td>view</td>\n",
       "      <td>1996170</td>\n",
       "      <td>2.144420e+18</td>\n",
       "      <td>electronics.telephone</td>\n",
       "      <td>NaN</td>\n",
       "      <td>31.90</td>\n",
       "      <td>1.515920e+18</td>\n",
       "      <td>LJuJVLEjPT</td>\n",
       "    </tr>\n",
       "    <tr>\n",
       "      <th>1</th>\n",
       "      <td>2020-09-24 11:57:26 UTC</td>\n",
       "      <td>view</td>\n",
       "      <td>139905</td>\n",
       "      <td>2.144420e+18</td>\n",
       "      <td>computers.components.cooler</td>\n",
       "      <td>zalman</td>\n",
       "      <td>17.16</td>\n",
       "      <td>1.515920e+18</td>\n",
       "      <td>tdicluNnRY</td>\n",
       "    </tr>\n",
       "    <tr>\n",
       "      <th>2</th>\n",
       "      <td>2020-09-24 11:57:27 UTC</td>\n",
       "      <td>view</td>\n",
       "      <td>215454</td>\n",
       "      <td>2.144420e+18</td>\n",
       "      <td>NaN</td>\n",
       "      <td>NaN</td>\n",
       "      <td>9.81</td>\n",
       "      <td>1.515920e+18</td>\n",
       "      <td>4TMArHtXQy</td>\n",
       "    </tr>\n",
       "    <tr>\n",
       "      <th>3</th>\n",
       "      <td>2020-09-24 11:57:33 UTC</td>\n",
       "      <td>view</td>\n",
       "      <td>635807</td>\n",
       "      <td>2.144420e+18</td>\n",
       "      <td>computers.peripherals.printer</td>\n",
       "      <td>pantum</td>\n",
       "      <td>113.81</td>\n",
       "      <td>1.515920e+18</td>\n",
       "      <td>aGFYrNgC08</td>\n",
       "    </tr>\n",
       "    <tr>\n",
       "      <th>4</th>\n",
       "      <td>2020-09-24 11:57:36 UTC</td>\n",
       "      <td>view</td>\n",
       "      <td>3658723</td>\n",
       "      <td>2.144420e+18</td>\n",
       "      <td>NaN</td>\n",
       "      <td>cameronsino</td>\n",
       "      <td>15.87</td>\n",
       "      <td>1.515920e+18</td>\n",
       "      <td>aa4mmk0kwQ</td>\n",
       "    </tr>\n",
       "  </tbody>\n",
       "</table>\n",
       "</div>"
      ],
      "text/plain": [
       "                event_time event_type  product_id   category_id  \\\n",
       "0  2020-09-24 11:57:06 UTC       view     1996170  2.144420e+18   \n",
       "1  2020-09-24 11:57:26 UTC       view      139905  2.144420e+18   \n",
       "2  2020-09-24 11:57:27 UTC       view      215454  2.144420e+18   \n",
       "3  2020-09-24 11:57:33 UTC       view      635807  2.144420e+18   \n",
       "4  2020-09-24 11:57:36 UTC       view     3658723  2.144420e+18   \n",
       "\n",
       "                   category_code        brand   price       user_id  \\\n",
       "0          electronics.telephone          NaN   31.90  1.515920e+18   \n",
       "1    computers.components.cooler       zalman   17.16  1.515920e+18   \n",
       "2                            NaN          NaN    9.81  1.515920e+18   \n",
       "3  computers.peripherals.printer       pantum  113.81  1.515920e+18   \n",
       "4                            NaN  cameronsino   15.87  1.515920e+18   \n",
       "\n",
       "  user_session  \n",
       "0   LJuJVLEjPT  \n",
       "1   tdicluNnRY  \n",
       "2   4TMArHtXQy  \n",
       "3   aGFYrNgC08  \n",
       "4   aa4mmk0kwQ  "
      ]
     },
     "execution_count": 4,
     "metadata": {},
     "output_type": "execute_result"
    }
   ],
   "source": [
    "df1.head()"
   ]
  },
  {
   "cell_type": "code",
   "execution_count": 5,
   "metadata": {},
   "outputs": [
    {
     "data": {
      "text/plain": [
       "(885129, 9)"
      ]
     },
     "execution_count": 5,
     "metadata": {},
     "output_type": "execute_result"
    }
   ],
   "source": [
    "df1.shape"
   ]
  },
  {
   "cell_type": "code",
   "execution_count": 6,
   "metadata": {},
   "outputs": [],
   "source": [
    "df2 = df1.dropna()"
   ]
  },
  {
   "cell_type": "code",
   "execution_count": 7,
   "metadata": {},
   "outputs": [
    {
     "data": {
      "text/html": [
       "<div>\n",
       "<style scoped>\n",
       "    .dataframe tbody tr th:only-of-type {\n",
       "        vertical-align: middle;\n",
       "    }\n",
       "\n",
       "    .dataframe tbody tr th {\n",
       "        vertical-align: top;\n",
       "    }\n",
       "\n",
       "    .dataframe thead th {\n",
       "        text-align: right;\n",
       "    }\n",
       "</style>\n",
       "<table border=\"1\" class=\"dataframe\">\n",
       "  <thead>\n",
       "    <tr style=\"text-align: right;\">\n",
       "      <th></th>\n",
       "      <th>event_time</th>\n",
       "      <th>event_type</th>\n",
       "      <th>product_id</th>\n",
       "      <th>category_id</th>\n",
       "      <th>category_code</th>\n",
       "      <th>brand</th>\n",
       "      <th>price</th>\n",
       "      <th>user_id</th>\n",
       "      <th>user_session</th>\n",
       "    </tr>\n",
       "  </thead>\n",
       "  <tbody>\n",
       "    <tr>\n",
       "      <th>1</th>\n",
       "      <td>2020-09-24 11:57:26 UTC</td>\n",
       "      <td>view</td>\n",
       "      <td>139905</td>\n",
       "      <td>2.144420e+18</td>\n",
       "      <td>computers.components.cooler</td>\n",
       "      <td>zalman</td>\n",
       "      <td>17.16</td>\n",
       "      <td>1.515920e+18</td>\n",
       "      <td>tdicluNnRY</td>\n",
       "    </tr>\n",
       "    <tr>\n",
       "      <th>3</th>\n",
       "      <td>2020-09-24 11:57:33 UTC</td>\n",
       "      <td>view</td>\n",
       "      <td>635807</td>\n",
       "      <td>2.144420e+18</td>\n",
       "      <td>computers.peripherals.printer</td>\n",
       "      <td>pantum</td>\n",
       "      <td>113.81</td>\n",
       "      <td>1.515920e+18</td>\n",
       "      <td>aGFYrNgC08</td>\n",
       "    </tr>\n",
       "    <tr>\n",
       "      <th>5</th>\n",
       "      <td>2020-09-24 11:57:59 UTC</td>\n",
       "      <td>view</td>\n",
       "      <td>664325</td>\n",
       "      <td>2.144420e+18</td>\n",
       "      <td>construction.tools.saw</td>\n",
       "      <td>carver</td>\n",
       "      <td>52.33</td>\n",
       "      <td>1.515920e+18</td>\n",
       "      <td>vnkdP81DDW</td>\n",
       "    </tr>\n",
       "    <tr>\n",
       "      <th>7</th>\n",
       "      <td>2020-09-24 11:58:24 UTC</td>\n",
       "      <td>view</td>\n",
       "      <td>716611</td>\n",
       "      <td>2.144420e+18</td>\n",
       "      <td>computers.network.router</td>\n",
       "      <td>d-link</td>\n",
       "      <td>53.14</td>\n",
       "      <td>1.515920e+18</td>\n",
       "      <td>kVBeYDPcBw</td>\n",
       "    </tr>\n",
       "    <tr>\n",
       "      <th>9</th>\n",
       "      <td>2020-09-24 11:58:31 UTC</td>\n",
       "      <td>view</td>\n",
       "      <td>716611</td>\n",
       "      <td>2.144420e+18</td>\n",
       "      <td>computers.network.router</td>\n",
       "      <td>d-link</td>\n",
       "      <td>53.14</td>\n",
       "      <td>1.515920e+18</td>\n",
       "      <td>F3VB9LYp39</td>\n",
       "    </tr>\n",
       "  </tbody>\n",
       "</table>\n",
       "</div>"
      ],
      "text/plain": [
       "                event_time event_type  product_id   category_id  \\\n",
       "1  2020-09-24 11:57:26 UTC       view      139905  2.144420e+18   \n",
       "3  2020-09-24 11:57:33 UTC       view      635807  2.144420e+18   \n",
       "5  2020-09-24 11:57:59 UTC       view      664325  2.144420e+18   \n",
       "7  2020-09-24 11:58:24 UTC       view      716611  2.144420e+18   \n",
       "9  2020-09-24 11:58:31 UTC       view      716611  2.144420e+18   \n",
       "\n",
       "                   category_code   brand   price       user_id user_session  \n",
       "1    computers.components.cooler  zalman   17.16  1.515920e+18   tdicluNnRY  \n",
       "3  computers.peripherals.printer  pantum  113.81  1.515920e+18   aGFYrNgC08  \n",
       "5         construction.tools.saw  carver   52.33  1.515920e+18   vnkdP81DDW  \n",
       "7       computers.network.router  d-link   53.14  1.515920e+18   kVBeYDPcBw  \n",
       "9       computers.network.router  d-link   53.14  1.515920e+18   F3VB9LYp39  "
      ]
     },
     "execution_count": 7,
     "metadata": {},
     "output_type": "execute_result"
    }
   ],
   "source": [
    "df2.head()"
   ]
  },
  {
   "cell_type": "code",
   "execution_count": 18,
   "metadata": {},
   "outputs": [
    {
     "data": {
      "text/plain": [
       "(516256, 7)"
      ]
     },
     "execution_count": 18,
     "metadata": {},
     "output_type": "execute_result"
    }
   ],
   "source": [
    "df2.shape"
   ]
  },
  {
   "cell_type": "code",
   "execution_count": 24,
   "metadata": {},
   "outputs": [
    {
     "data": {
      "text/html": [
       "<div>\n",
       "<style scoped>\n",
       "    .dataframe tbody tr th:only-of-type {\n",
       "        vertical-align: middle;\n",
       "    }\n",
       "\n",
       "    .dataframe tbody tr th {\n",
       "        vertical-align: top;\n",
       "    }\n",
       "\n",
       "    .dataframe thead th {\n",
       "        text-align: right;\n",
       "    }\n",
       "</style>\n",
       "<table border=\"1\" class=\"dataframe\">\n",
       "  <thead>\n",
       "    <tr style=\"text-align: right;\">\n",
       "      <th></th>\n",
       "      <th>event_time</th>\n",
       "      <th>event_type</th>\n",
       "      <th>product_id</th>\n",
       "      <th>category_code</th>\n",
       "      <th>brand</th>\n",
       "      <th>price</th>\n",
       "      <th>user_session</th>\n",
       "    </tr>\n",
       "  </thead>\n",
       "  <tbody>\n",
       "    <tr>\n",
       "      <th>1</th>\n",
       "      <td>2020-09-24 11:57:26 UTC</td>\n",
       "      <td>view</td>\n",
       "      <td>139905</td>\n",
       "      <td>computers.components.cooler</td>\n",
       "      <td>zalman</td>\n",
       "      <td>17.16</td>\n",
       "      <td>tdicluNnRY</td>\n",
       "    </tr>\n",
       "    <tr>\n",
       "      <th>3</th>\n",
       "      <td>2020-09-24 11:57:33 UTC</td>\n",
       "      <td>view</td>\n",
       "      <td>635807</td>\n",
       "      <td>computers.peripherals.printer</td>\n",
       "      <td>pantum</td>\n",
       "      <td>113.81</td>\n",
       "      <td>aGFYrNgC08</td>\n",
       "    </tr>\n",
       "    <tr>\n",
       "      <th>5</th>\n",
       "      <td>2020-09-24 11:57:59 UTC</td>\n",
       "      <td>view</td>\n",
       "      <td>664325</td>\n",
       "      <td>construction.tools.saw</td>\n",
       "      <td>carver</td>\n",
       "      <td>52.33</td>\n",
       "      <td>vnkdP81DDW</td>\n",
       "    </tr>\n",
       "    <tr>\n",
       "      <th>7</th>\n",
       "      <td>2020-09-24 11:58:24 UTC</td>\n",
       "      <td>view</td>\n",
       "      <td>716611</td>\n",
       "      <td>computers.network.router</td>\n",
       "      <td>d-link</td>\n",
       "      <td>53.14</td>\n",
       "      <td>kVBeYDPcBw</td>\n",
       "    </tr>\n",
       "    <tr>\n",
       "      <th>9</th>\n",
       "      <td>2020-09-24 11:58:31 UTC</td>\n",
       "      <td>view</td>\n",
       "      <td>716611</td>\n",
       "      <td>computers.network.router</td>\n",
       "      <td>d-link</td>\n",
       "      <td>53.14</td>\n",
       "      <td>F3VB9LYp39</td>\n",
       "    </tr>\n",
       "  </tbody>\n",
       "</table>\n",
       "</div>"
      ],
      "text/plain": [
       "                event_time event_type  product_id  \\\n",
       "1  2020-09-24 11:57:26 UTC       view      139905   \n",
       "3  2020-09-24 11:57:33 UTC       view      635807   \n",
       "5  2020-09-24 11:57:59 UTC       view      664325   \n",
       "7  2020-09-24 11:58:24 UTC       view      716611   \n",
       "9  2020-09-24 11:58:31 UTC       view      716611   \n",
       "\n",
       "                   category_code   brand   price user_session  \n",
       "1    computers.components.cooler  zalman   17.16   tdicluNnRY  \n",
       "3  computers.peripherals.printer  pantum  113.81   aGFYrNgC08  \n",
       "5         construction.tools.saw  carver   52.33   vnkdP81DDW  \n",
       "7       computers.network.router  d-link   53.14   kVBeYDPcBw  \n",
       "9       computers.network.router  d-link   53.14   F3VB9LYp39  "
      ]
     },
     "execution_count": 24,
     "metadata": {},
     "output_type": "execute_result"
    }
   ],
   "source": [
    "df2.head()"
   ]
  },
  {
   "cell_type": "code",
   "execution_count": 25,
   "metadata": {},
   "outputs": [
    {
     "name": "stdout",
     "output_type": "stream",
     "text": [
      "                     event_time event_type  product_id  \\\n",
      "1       2020-09-24 11:57:26 UTC       view      139905   \n",
      "3       2020-09-24 11:57:33 UTC       view      635807   \n",
      "5       2020-09-24 11:57:59 UTC       view      664325   \n",
      "7       2020-09-24 11:58:24 UTC       view      716611   \n",
      "9       2020-09-24 11:58:31 UTC       view      716611   \n",
      "...                         ...        ...         ...   \n",
      "885121  2021-02-28 23:51:25 UTC       view      622796   \n",
      "885122  2021-02-28 23:53:13 UTC       view     4079420   \n",
      "885125  2021-02-28 23:58:05 UTC       view     1715907   \n",
      "885126  2021-02-28 23:58:09 UTC       view     4170534   \n",
      "885128  2021-02-28 23:59:09 UTC       view      743182   \n",
      "\n",
      "                          category_code     brand   price user_session  \n",
      "1           computers.components.cooler    zalman   17.16   tdicluNnRY  \n",
      "3         computers.peripherals.printer    pantum  113.81   aGFYrNgC08  \n",
      "5                construction.tools.saw    carver   52.33   vnkdP81DDW  \n",
      "7              computers.network.router    d-link   53.14   kVBeYDPcBw  \n",
      "9              computers.network.router    d-link   53.14   F3VB9LYp39  \n",
      "...                                 ...       ...     ...          ...  \n",
      "885121        computers.components.cdrw      asus  147.38   SqlXaC3Wrw  \n",
      "885122  computers.components.videocards       msi  449.51   zrl0oKrysT  \n",
      "885125             electronics.video.tv  starwind   80.03   g6WqPf50Ma  \n",
      "885126               electronics.clocks   amazfit   64.92   xNIJBqZdkd  \n",
      "885128     construction.tools.soldering      kada   65.08   BejOXRngEW  \n",
      "\n",
      "[516256 rows x 7 columns]\n"
     ]
    }
   ],
   "source": [
    "print(df2)"
   ]
  },
  {
   "cell_type": "code",
   "execution_count": null,
   "metadata": {},
   "outputs": [],
   "source": []
  }
 ],
 "metadata": {
  "kernelspec": {
   "display_name": "Python 3",
   "language": "python",
   "name": "python3"
  },
  "language_info": {
   "codemirror_mode": {
    "name": "ipython",
    "version": 3
   },
   "file_extension": ".py",
   "mimetype": "text/x-python",
   "name": "python",
   "nbconvert_exporter": "python",
   "pygments_lexer": "ipython3",
   "version": "3.11.8"
  }
 },
 "nbformat": 4,
 "nbformat_minor": 2
}
